{
 "cells": [
  {
   "cell_type": "code",
   "execution_count": 28,
   "id": "09448606",
   "metadata": {},
   "outputs": [],
   "source": [
    "import firebase_admin\n",
    "from firebase_admin import credentials\n",
    "from firebase_admin import firestore\n",
    "import pandas as pd\n",
    "from firebase_admin import credentials\n",
    "\n"
   ]
  },
  {
   "cell_type": "code",
   "execution_count": 24,
   "id": "3e98cd90",
   "metadata": {},
   "outputs": [
    {
     "data": {
      "text/plain": [
       "<firebase_admin.App at 0x1e758022070>"
      ]
     },
     "execution_count": 24,
     "metadata": {},
     "output_type": "execute_result"
    }
   ],
   "source": [
    "# Path to your service account JSON file\n",
    "service_account_key = r\"C:\\Users\\datta\\Downloads\\fir-project-nlp-firebase.json\"\n",
    "\n",
    "# Initialize the Firebase Admin SDK with explicit credentials\n",
    "cred = credentials.Certificate(service_account_key)\n",
    "firebase_admin.initialize_app(cred,name='research_project')\n"
   ]
  },
  {
   "cell_type": "code",
   "execution_count": 33,
   "id": "f623e44d",
   "metadata": {},
   "outputs": [],
   "source": [
    "#storing records from csv file into firestore database.\n",
    "\n",
    "db = firestore.client()\n",
    "df = pd.read_excel(r'C:\\Users\\datta\\OneDrive\\Desktop\\RP\\search_results_analysis.xlsx')\n",
    "records = df.to_dict(orient='records')\n",
    "\n",
    "for record in records:\n",
    "    db.collection('research_project').add(record)"
   ]
  },
  {
   "cell_type": "code",
   "execution_count": 35,
   "id": "23d35af4",
   "metadata": {},
   "outputs": [],
   "source": [
    "# Get the collection reference\n",
    "collection_ref = db.collection('research_project')\n",
    "\n",
    "# Fetch all documents from the collection\n",
    "docs = collection_ref.get()\n",
    "\n"
   ]
  },
  {
   "cell_type": "code",
   "execution_count": 38,
   "id": "131d553a",
   "metadata": {},
   "outputs": [],
   "source": [
    "data = []\n",
    "for doc in docs:\n",
    "    doc_data = doc.to_dict()\n",
    "    data.append(doc_data)"
   ]
  },
  {
   "cell_type": "code",
   "execution_count": 50,
   "id": "d79dea58",
   "metadata": {},
   "outputs": [
    {
     "data": {
      "text/html": [
       "<div>\n",
       "<style scoped>\n",
       "    .dataframe tbody tr th:only-of-type {\n",
       "        vertical-align: middle;\n",
       "    }\n",
       "\n",
       "    .dataframe tbody tr th {\n",
       "        vertical-align: top;\n",
       "    }\n",
       "\n",
       "    .dataframe thead th {\n",
       "        text-align: right;\n",
       "    }\n",
       "</style>\n",
       "<table border=\"1\" class=\"dataframe\">\n",
       "  <thead>\n",
       "    <tr style=\"text-align: right;\">\n",
       "      <th></th>\n",
       "      <th>mandate</th>\n",
       "      <th>get_vaccine</th>\n",
       "      <th>text</th>\n",
       "      <th>trust</th>\n",
       "      <th>politics</th>\n",
       "      <th>ID</th>\n",
       "      <th>family_health</th>\n",
       "      <th>child</th>\n",
       "      <th>health_information</th>\n",
       "      <th>personal_decision</th>\n",
       "      <th>media</th>\n",
       "      <th>side_effect</th>\n",
       "    </tr>\n",
       "  </thead>\n",
       "  <tbody>\n",
       "    <tr>\n",
       "      <th>0</th>\n",
       "      <td>0.301636</td>\n",
       "      <td>0.627582</td>\n",
       "      <td>Eve vaccine will save a life</td>\n",
       "      <td>0.520855</td>\n",
       "      <td>0.595995</td>\n",
       "      <td>784.0</td>\n",
       "      <td>0.552873</td>\n",
       "      <td>0.714465</td>\n",
       "      <td>0.479907</td>\n",
       "      <td>0.469474</td>\n",
       "      <td>0.442951</td>\n",
       "      <td>0.438284</td>\n",
       "    </tr>\n",
       "    <tr>\n",
       "      <th>1</th>\n",
       "      <td>0.328094</td>\n",
       "      <td>0.264749</td>\n",
       "      <td>I have concerns for those who have recieved</td>\n",
       "      <td>0.473714</td>\n",
       "      <td>0.421723</td>\n",
       "      <td>724.0</td>\n",
       "      <td>0.386119</td>\n",
       "      <td>0.371730</td>\n",
       "      <td>0.483317</td>\n",
       "      <td>0.539276</td>\n",
       "      <td>0.506097</td>\n",
       "      <td>0.378924</td>\n",
       "    </tr>\n",
       "    <tr>\n",
       "      <th>2</th>\n",
       "      <td>0.494622</td>\n",
       "      <td>0.892272</td>\n",
       "      <td>Just keep things clean and organized, when I h...</td>\n",
       "      <td>0.504696</td>\n",
       "      <td>0.524905</td>\n",
       "      <td>359.0</td>\n",
       "      <td>0.567844</td>\n",
       "      <td>0.592648</td>\n",
       "      <td>0.605526</td>\n",
       "      <td>0.570901</td>\n",
       "      <td>0.495645</td>\n",
       "      <td>0.594874</td>\n",
       "    </tr>\n",
       "    <tr>\n",
       "      <th>3</th>\n",
       "      <td>0.283007</td>\n",
       "      <td>0.366525</td>\n",
       "      <td>Ima healthy person</td>\n",
       "      <td>0.441875</td>\n",
       "      <td>0.407094</td>\n",
       "      <td>823.0</td>\n",
       "      <td>0.551183</td>\n",
       "      <td>0.658026</td>\n",
       "      <td>0.517945</td>\n",
       "      <td>0.476205</td>\n",
       "      <td>0.390399</td>\n",
       "      <td>0.434088</td>\n",
       "    </tr>\n",
       "    <tr>\n",
       "      <th>4</th>\n",
       "      <td>0.412924</td>\n",
       "      <td>0.720978</td>\n",
       "      <td>They believe it's there choice to get the vacc...</td>\n",
       "      <td>0.528991</td>\n",
       "      <td>0.519766</td>\n",
       "      <td>637.0</td>\n",
       "      <td>0.466773</td>\n",
       "      <td>0.569338</td>\n",
       "      <td>0.540406</td>\n",
       "      <td>0.574172</td>\n",
       "      <td>0.502146</td>\n",
       "      <td>0.539771</td>\n",
       "    </tr>\n",
       "  </tbody>\n",
       "</table>\n",
       "</div>"
      ],
      "text/plain": [
       "    mandate  get_vaccine                                               text  \\\n",
       "0  0.301636     0.627582                       Eve vaccine will save a life   \n",
       "1  0.328094     0.264749        I have concerns for those who have recieved   \n",
       "2  0.494622     0.892272  Just keep things clean and organized, when I h...   \n",
       "3  0.283007     0.366525                                 Ima healthy person   \n",
       "4  0.412924     0.720978  They believe it's there choice to get the vacc...   \n",
       "\n",
       "      trust  politics     ID  family_health     child  health_information  \\\n",
       "0  0.520855  0.595995  784.0       0.552873  0.714465            0.479907   \n",
       "1  0.473714  0.421723  724.0       0.386119  0.371730            0.483317   \n",
       "2  0.504696  0.524905  359.0       0.567844  0.592648            0.605526   \n",
       "3  0.441875  0.407094  823.0       0.551183  0.658026            0.517945   \n",
       "4  0.528991  0.519766  637.0       0.466773  0.569338            0.540406   \n",
       "\n",
       "   personal_decision     media  side_effect  \n",
       "0           0.469474  0.442951     0.438284  \n",
       "1           0.539276  0.506097     0.378924  \n",
       "2           0.570901  0.495645     0.594874  \n",
       "3           0.476205  0.390399     0.434088  \n",
       "4           0.574172  0.502146     0.539771  "
      ]
     },
     "execution_count": 50,
     "metadata": {},
     "output_type": "execute_result"
    }
   ],
   "source": [
    "df = pd.DataFrame(data)\n",
    "df=df[['mandate', 'get_vaccine', 'text', 'trust', 'politics', 'ID',\n",
    "       'family_health', 'child','health_information',\n",
    "       'personal_decision', 'media', 'side_effect']]\n",
    "df.head()"
   ]
  },
  {
   "cell_type": "code",
   "execution_count": 58,
   "id": "48c5d040",
   "metadata": {},
   "outputs": [],
   "source": [
    "from firebase_admin import credentials, storage\n",
    "\n",
    "# Get a reference to the Firebase Storage bucket\n",
    "bucket = storage.bucket(\"fir-project-nlp.appspot.com\")\n",
    "# Export DataFrame to CSV\n",
    "csv_data = df.to_csv(index=False)\n",
    "\n",
    "# Define the destination filename in the Storage bucket\n",
    "destination_blob_name = 'research_project/output.csv'\n",
    "\n",
    "# Create a blob object with the desired filename\n",
    "blob = bucket.blob(destination_blob_name)\n",
    "\n",
    "# Upload the CSV data to the Storage bucket\n",
    "blob.upload_from_string(csv_data, content_type='text/csv')"
   ]
  },
  {
   "cell_type": "code",
   "execution_count": 64,
   "id": "a3bb503a",
   "metadata": {},
   "outputs": [
    {
     "name": "stdout",
     "output_type": "stream",
     "text": [
      "https://storage.googleapis.com/fir-project-nlp.appspot.com/research_project/output.csv?Expires=1689161493&GoogleAccessId=firebase-adminsdk-m34wi%40fir-project-nlp.iam.gserviceaccount.com&Signature=yGTew1L25bAxxtALxzGXeLOJjk48JrnfxR4r5pqdRn44OUS08hcnY1cGkQOFNDXsiGOgXmTFPmzUE9aw2xrwj8i4m5IQn%2Brqjro3nULwX%2BqiqosvcPSjtNSuQTwBrKHZc%2BWMx1%2Bl2lsYctz522%2BEJ8G8lCkHfU06TBVy00rPdoN3wcsdAt2pLpA4Fm4c1bk1CAtrR2lskQdNddvDTsUys6EV4L73jXTDY0gluoiUhMk5N0n%2FSwvgXnQnMtdCcF2sF1UI8tGRALhdE%2BbbCtpdMlwfm6L4gs7mgky66B6Lus9qmvW6mTpIIr%2FGTjKeeSzqpPfUfslIggOZmcELjNfFRQ%3D%3D\n"
     ]
    }
   ],
   "source": [
    "import datetime\n",
    "# Get a reference to the Firebase Storage bucket\n",
    "bucket = storage.bucket(\"fir-project-nlp.appspot.com\")\n",
    "expiration_time = datetime.datetime.utcnow() + datetime.timedelta(hours=1000)\n",
    "\n",
    "# Specify the path to your CSV file in Firebase Storage\n",
    "file_path = \"research_project/output.csv\"\n",
    "\n",
    "# Generate a download URL with a temporary token\n",
    "blob = bucket.blob(file_path)\n",
    "download_url = blob.generate_signed_url(expiration=expiration_time)  # URL expires in 3 hour\n",
    "\n",
    "# Print the download URL\n",
    "print(download_url)\n"
   ]
  },
  {
   "cell_type": "code",
   "execution_count": null,
   "id": "4e7b2134",
   "metadata": {},
   "outputs": [],
   "source": []
  }
 ],
 "metadata": {
  "kernelspec": {
   "display_name": "Python 3 (ipykernel)",
   "language": "python",
   "name": "python3"
  },
  "language_info": {
   "codemirror_mode": {
    "name": "ipython",
    "version": 3
   },
   "file_extension": ".py",
   "mimetype": "text/x-python",
   "name": "python",
   "nbconvert_exporter": "python",
   "pygments_lexer": "ipython3",
   "version": "3.9.13"
  }
 },
 "nbformat": 4,
 "nbformat_minor": 5
}
